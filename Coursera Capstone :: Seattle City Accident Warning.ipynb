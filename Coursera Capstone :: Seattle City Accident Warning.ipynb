{
    "cells": [
        {
            "metadata": {
                "collapsed": true
            },
            "cell_type": "markdown",
            "source": "# **Car Accident Warning System :: Seattle City**\n---"
        },
        {
            "metadata": {},
            "cell_type": "markdown",
            "source": "## Introduction / Business Understanding"
        },
        {
            "metadata": {},
            "cell_type": "markdown",
            "source": "Everyone who commutes daily to work would know that traveling can be a stressful and time wasting activity if not planned properly. Traveling time is one of the main factors that determine how pleasant your commute to and from work would be. One of the factors that needs to be taken into account is facing a Congestion/Traffic Jam because of an accident that took place on the route you take. The aim of this project is to see if we can build a model to be able to predict the severity of an accident taking place taking into account different environmental/traffic/geographical factors. This will be able to help both, law enforcing agencies as well as daily commuters.\n\n* **Law enforcing agencies** stand to gain by being able to proactively avert such accidents if a certain set of conditions arrive and being able to take appropriate actions if and when it does, so that they can ensure minimum impact on traffic flow.\n\n* **Commuters** stand to gain by being forewarned about the accidents and planning/rerouting their journey accordingly. They can also be more vigilant in certain conditions that are prone to accidents.\n\nIn the end, we all stand to gain collectively as a society as we will have less accidents, safer roads, less pollution (noise and air) due to less traffic jams and an over improvement in daily commute both in terms of time and stress."
        },
        {
            "metadata": {},
            "cell_type": "markdown",
            "source": "## Data Analysis"
        },
        {
            "metadata": {},
            "cell_type": "markdown",
            "source": "To realize the solution to the problem at hand, we needed an appropriate data source that contains data on past incidents, the conditions they took place in and outcomes, related to traffic related accidents. We got a data source from the Government of Seattle Website (https://data.seattle.gov/Land-Base/Collisions/9kas-rb8d) that contains the latest dataset for us to analyze and build a model to be able to predict the desired results.\n\nThere are a total of **40 Variables** and **221267 Data points/Observations**. Looking at the data set, we see some columns that look useful, including \n\n* **LOCATION** - Description of the general location of the collision\n* **SEVERITYCODE** - A code that corresponds to the severity of the collision ( 3\u2014fatality, 2b\u2014serious injury, 2\u2014injury, 1\u2014prop damage, 0\u2014unknown)\n* **SEVERITYDESC** - A detailed description of the severity of the collision\n* **JUNCTIONTYPE** - Category of junction at which collision took place\n* **UNDERINFL** - Whether or not a driver involved was under the influence of drugs or alcohol\n* **INCDTTM** - The date and time of the incident (Time of the day might be of importance here)\n* **WEATHER** - A description of the weather conditions during the time of the collision\n* **ROADCOND** - The condition of the road during the collision\n* **LIGHTCOND** - The condition of the road during the collision\n\nOur Dependent/Predicted Variable will be **SEVERITYCODE** and during data processing and subsequent stages, we will go into in-depth analysis to see how each independent variable varies/is related to the dependent variable.\n\nNote that data filtering will be needed to remove unwanted Columns/Variables and to remove and Null/Empty/Unwanted data observations. We will also need to do other data processing steps such a type casting, standardization, dummy variable creation etc."
        },
        {
            "metadata": {},
            "cell_type": "markdown",
            "source": "## Data Cleaning and Variable Selection"
        },
        {
            "metadata": {},
            "cell_type": "markdown",
            "source": "One of the most crucial aspects of having an accurate and meaningful model is to be able to select the most meaningful inputs towards the prediction. We will analyze the data set to see:\n\n* If there are observations with not enough data (invalid/empty data points)\n* Go through the description of the features to see if we can remove/delete any unnecessary columns\n* If the remaining data points have any correlation to our dependent/predictor variable\n"
        },
        {
            "metadata": {},
            "cell_type": "markdown",
            "source": "### Step 1: Removing empty data points"
        },
        {
            "metadata": {},
            "cell_type": "markdown",
            "source": "The first step would be to import all the relevant libraries for analysis"
        },
        {
            "metadata": {},
            "cell_type": "code",
            "source": "import numpy as np \nimport pandas as pd\n#!conda install -c anaconda xlrd --yes\n\n%matplotlib inline \n\nimport matplotlib as mpl\nimport matplotlib.pyplot as plt\n\nimport pylab as pl\nimport numpy as np\n%matplotlib inline\n\nmpl.style.use('ggplot')",
            "execution_count": 1,
            "outputs": []
        },
        {
            "metadata": {},
            "cell_type": "markdown",
            "source": "As mentioned earlier, we will be importing the data from Seattle Citys Website."
        },
        {
            "metadata": {},
            "cell_type": "code",
            "source": "DataSet = pd.read_csv(\"http://data-seattlecitygis.opendata.arcgis.com/datasets/5b5c745e0f1f48e7a53acec63a0022ab_0.csv\")",
            "execution_count": 2,
            "outputs": [
                {
                    "output_type": "stream",
                    "text": "/opt/conda/envs/Python36/lib/python3.6/site-packages/IPython/core/interactiveshell.py:3020: DtypeWarning: Columns (35) have mixed types. Specify dtype option on import or set low_memory=False.\n  interactivity=interactivity, compiler=compiler, result=result)\n",
                    "name": "stderr"
                }
            ]
        },
        {
            "metadata": {},
            "cell_type": "markdown",
            "source": "Having a look at the dataset."
        },
        {
            "metadata": {},
            "cell_type": "code",
            "source": "DataSet.head()",
            "execution_count": 3,
            "outputs": [
                {
                    "output_type": "execute_result",
                    "execution_count": 3,
                    "data": {
                        "text/plain": "            X          Y  OBJECTID  INCKEY  COLDETKEY REPORTNO     STATUS  \\\n0 -122.344896  47.717173         1    1003       1003  3503158    Matched   \n1 -122.376467  47.543774         2   56200      56200  1795087    Matched   \n2 -122.360735  47.701487         3  327037     328537  E979380    Matched   \n3 -122.297415  47.599233         4  327278     328778  E996362  Unmatched   \n4 -122.368001  47.653585         5    1248       1248  3645424  Unmatched   \n\n       ADDRTYPE   INTKEY                                          LOCATION  \\\n0         Block      NaN    AURORA AVE N BETWEEN N 117TH PL AND N 125TH ST   \n1         Block      NaN  35TH AVE SW BETWEEN SW MORGAN ST AND SW HOLLY ST   \n2  Intersection  37122.0                        3RD AVE NW AND NW 100TH ST   \n3  Intersection  30602.0                M L KING JR WAY S AND S JACKSON ST   \n4         Block      NaN       W EWING ST BETWEEN 6TH AVE W AND W EWING PL   \n\n   ... ROADCOND                LIGHTCOND PEDROWNOTGRNT SDOTCOLNUM SPEEDING  \\\n0  ...      Dry                 Daylight             Y        NaN      NaN   \n1  ...      Dry  Dark - Street Lights On           NaN  6015003.0      NaN   \n2  ...      Wet                 Daylight           NaN        NaN      NaN   \n3  ...      NaN                      NaN           NaN        NaN      NaN   \n4  ...      NaN                      NaN           NaN        NaN      NaN   \n\n   ST_COLCODE                              ST_COLDESC  SEGLANEKEY  \\\n0          45                  Vehicle - Pedalcyclist       15057   \n1           0  Vehicle going straight hits pedestrian           0   \n2          10                       Entering at angle           0   \n3                                                 NaN           0   \n4                                                 NaN           0   \n\n   CROSSWALKKEY  HITPARKEDCAR  \n0             0             N  \n1             0             N  \n2             0             N  \n3             0             N  \n4             0             N  \n\n[5 rows x 40 columns]",
                        "text/html": "<div>\n<style scoped>\n    .dataframe tbody tr th:only-of-type {\n        vertical-align: middle;\n    }\n\n    .dataframe tbody tr th {\n        vertical-align: top;\n    }\n\n    .dataframe thead th {\n        text-align: right;\n    }\n</style>\n<table border=\"1\" class=\"dataframe\">\n  <thead>\n    <tr style=\"text-align: right;\">\n      <th></th>\n      <th>X</th>\n      <th>Y</th>\n      <th>OBJECTID</th>\n      <th>INCKEY</th>\n      <th>COLDETKEY</th>\n      <th>REPORTNO</th>\n      <th>STATUS</th>\n      <th>ADDRTYPE</th>\n      <th>INTKEY</th>\n      <th>LOCATION</th>\n      <th>...</th>\n      <th>ROADCOND</th>\n      <th>LIGHTCOND</th>\n      <th>PEDROWNOTGRNT</th>\n      <th>SDOTCOLNUM</th>\n      <th>SPEEDING</th>\n      <th>ST_COLCODE</th>\n      <th>ST_COLDESC</th>\n      <th>SEGLANEKEY</th>\n      <th>CROSSWALKKEY</th>\n      <th>HITPARKEDCAR</th>\n    </tr>\n  </thead>\n  <tbody>\n    <tr>\n      <th>0</th>\n      <td>-122.344896</td>\n      <td>47.717173</td>\n      <td>1</td>\n      <td>1003</td>\n      <td>1003</td>\n      <td>3503158</td>\n      <td>Matched</td>\n      <td>Block</td>\n      <td>NaN</td>\n      <td>AURORA AVE N BETWEEN N 117TH PL AND N 125TH ST</td>\n      <td>...</td>\n      <td>Dry</td>\n      <td>Daylight</td>\n      <td>Y</td>\n      <td>NaN</td>\n      <td>NaN</td>\n      <td>45</td>\n      <td>Vehicle - Pedalcyclist</td>\n      <td>15057</td>\n      <td>0</td>\n      <td>N</td>\n    </tr>\n    <tr>\n      <th>1</th>\n      <td>-122.376467</td>\n      <td>47.543774</td>\n      <td>2</td>\n      <td>56200</td>\n      <td>56200</td>\n      <td>1795087</td>\n      <td>Matched</td>\n      <td>Block</td>\n      <td>NaN</td>\n      <td>35TH AVE SW BETWEEN SW MORGAN ST AND SW HOLLY ST</td>\n      <td>...</td>\n      <td>Dry</td>\n      <td>Dark - Street Lights On</td>\n      <td>NaN</td>\n      <td>6015003.0</td>\n      <td>NaN</td>\n      <td>0</td>\n      <td>Vehicle going straight hits pedestrian</td>\n      <td>0</td>\n      <td>0</td>\n      <td>N</td>\n    </tr>\n    <tr>\n      <th>2</th>\n      <td>-122.360735</td>\n      <td>47.701487</td>\n      <td>3</td>\n      <td>327037</td>\n      <td>328537</td>\n      <td>E979380</td>\n      <td>Matched</td>\n      <td>Intersection</td>\n      <td>37122.0</td>\n      <td>3RD AVE NW AND NW 100TH ST</td>\n      <td>...</td>\n      <td>Wet</td>\n      <td>Daylight</td>\n      <td>NaN</td>\n      <td>NaN</td>\n      <td>NaN</td>\n      <td>10</td>\n      <td>Entering at angle</td>\n      <td>0</td>\n      <td>0</td>\n      <td>N</td>\n    </tr>\n    <tr>\n      <th>3</th>\n      <td>-122.297415</td>\n      <td>47.599233</td>\n      <td>4</td>\n      <td>327278</td>\n      <td>328778</td>\n      <td>E996362</td>\n      <td>Unmatched</td>\n      <td>Intersection</td>\n      <td>30602.0</td>\n      <td>M L KING JR WAY S AND S JACKSON ST</td>\n      <td>...</td>\n      <td>NaN</td>\n      <td>NaN</td>\n      <td>NaN</td>\n      <td>NaN</td>\n      <td>NaN</td>\n      <td></td>\n      <td>NaN</td>\n      <td>0</td>\n      <td>0</td>\n      <td>N</td>\n    </tr>\n    <tr>\n      <th>4</th>\n      <td>-122.368001</td>\n      <td>47.653585</td>\n      <td>5</td>\n      <td>1248</td>\n      <td>1248</td>\n      <td>3645424</td>\n      <td>Unmatched</td>\n      <td>Block</td>\n      <td>NaN</td>\n      <td>W EWING ST BETWEEN 6TH AVE W AND W EWING PL</td>\n      <td>...</td>\n      <td>NaN</td>\n      <td>NaN</td>\n      <td>NaN</td>\n      <td>NaN</td>\n      <td>NaN</td>\n      <td></td>\n      <td>NaN</td>\n      <td>0</td>\n      <td>0</td>\n      <td>N</td>\n    </tr>\n  </tbody>\n</table>\n<p>5 rows \u00d7 40 columns</p>\n</div>"
                    },
                    "metadata": {}
                }
            ]
        },
        {
            "metadata": {},
            "cell_type": "code",
            "source": "DataSet.shape",
            "execution_count": 4,
            "outputs": [
                {
                    "output_type": "execute_result",
                    "execution_count": 4,
                    "data": {
                        "text/plain": "(221525, 40)"
                    },
                    "metadata": {}
                }
            ]
        },
        {
            "metadata": {},
            "cell_type": "markdown",
            "source": "At this point, we can see some columns having NaN which means we have empty data. It would be worthwhile to see how many data points per feature are null/empty as a percentage of the total data points"
        },
        {
            "metadata": {},
            "cell_type": "code",
            "source": "(DataSet.isnull().sum()/DataSet.isnull().count()*100).sort_values(ascending=False)",
            "execution_count": 5,
            "outputs": [
                {
                    "output_type": "execute_result",
                    "execution_count": 5,
                    "data": {
                        "text/plain": "PEDROWNOTGRNT      97.654892\nSPEEDING           95.517887\nEXCEPTRSNDESC      94.682767\nINATTENTIONIND     86.372644\nINTKEY             67.526916\nEXCEPTRSNCODE      54.351879\nSDOTCOLNUM         42.577587\nLIGHTCOND          12.004063\nWEATHER            11.963887\nROADCOND           11.927322\nCOLLISIONTYPE      11.878118\nST_COLDESC         11.878118\nUNDERINFL          11.869089\nJUNCTIONTYPE        5.405259\nST_COLCODE          4.249182\nX                   3.374337\nY                   3.374337\nLOCATION            2.072001\nADDRTYPE            1.675657\nSDOT_COLCODE        0.000451\nSEVERITYCODE        0.000451\nSDOT_COLDESC        0.000451\nOBJECTID            0.000000\nINCKEY              0.000000\nCOLDETKEY           0.000000\nREPORTNO            0.000000\nSTATUS              0.000000\nHITPARKEDCAR        0.000000\nSEVERITYDESC        0.000000\nPERSONCOUNT         0.000000\nPEDCOUNT            0.000000\nPEDCYLCOUNT         0.000000\nVEHCOUNT            0.000000\nCROSSWALKKEY        0.000000\nSERIOUSINJURIES     0.000000\nFATALITIES          0.000000\nINCDATE             0.000000\nINCDTTM             0.000000\nSEGLANEKEY          0.000000\nINJURIES            0.000000\ndtype: float64"
                    },
                    "metadata": {}
                }
            ]
        },
        {
            "metadata": {},
            "cell_type": "markdown",
            "source": "It would make no sense to use features that have NaN/missing data more than 40% of the sample points. Hence, we will drop these from the dataset."
        },
        {
            "metadata": {},
            "cell_type": "code",
            "source": "DataSet.drop([\"PEDROWNOTGRNT\", \"SPEEDING\", \"EXCEPTRSNDESC\", \"INATTENTIONIND\", \"INTKEY\", \"EXCEPTRSNCODE\", \"SDOTCOLNUM\"], axis=1, inplace=True)",
            "execution_count": 6,
            "outputs": []
        },
        {
            "metadata": {},
            "cell_type": "markdown",
            "source": "Going through the data description, we can see some columns are of no use towards our analysis. Therefore, we will drop them as well."
        },
        {
            "metadata": {},
            "cell_type": "code",
            "source": "DataSet.drop([\"OBJECTID\", \"INCKEY\", \"COLDETKEY\", \"REPORTNO\", \"STATUS\", \"SDOT_COLCODE\", \"SDOT_COLDESC\", \"ST_COLCODE\", \"ST_COLDESC\", \"HITPARKEDCAR\"], axis=1, inplace=True)",
            "execution_count": 7,
            "outputs": []
        },
        {
            "metadata": {},
            "cell_type": "markdown",
            "source": "Lets have a fresh view of the data be have left"
        },
        {
            "metadata": {},
            "cell_type": "code",
            "source": "DataSet.head()",
            "execution_count": 8,
            "outputs": [
                {
                    "output_type": "execute_result",
                    "execution_count": 8,
                    "data": {
                        "text/plain": "            X          Y      ADDRTYPE  \\\n0 -122.344896  47.717173         Block   \n1 -122.376467  47.543774         Block   \n2 -122.360735  47.701487  Intersection   \n3 -122.297415  47.599233  Intersection   \n4 -122.368001  47.653585         Block   \n\n                                           LOCATION SEVERITYCODE  \\\n0    AURORA AVE N BETWEEN N 117TH PL AND N 125TH ST            2   \n1  35TH AVE SW BETWEEN SW MORGAN ST AND SW HOLLY ST            2   \n2                        3RD AVE NW AND NW 100TH ST            1   \n3                M L KING JR WAY S AND S JACKSON ST            1   \n4       W EWING ST BETWEEN 6TH AVE W AND W EWING PL            0   \n\n                     SEVERITYDESC COLLISIONTYPE  PERSONCOUNT  PEDCOUNT  \\\n0                Injury Collision        Cycles            2         0   \n1                Injury Collision    Pedestrian            7         1   \n2  Property Damage Only Collision        Angles            2         0   \n3  Property Damage Only Collision           NaN            2         0   \n4                         Unknown           NaN            1         0   \n\n   PEDCYLCOUNT  ...  FATALITIES                 INCDATE               INCDTTM  \\\n0            1  ...           0  2013/03/14 00:00:00+00  3/14/2013 5:30:00 PM   \n1            0  ...           0  2006/01/15 00:00:00+00  1/15/2006 5:35:00 PM   \n2            0  ...           0  2019/09/09 00:00:00+00   9/9/2019 3:32:00 PM   \n3            0  ...           0  2019/12/19 00:00:00+00            12/19/2019   \n4            0  ...           0  2013/03/27 00:00:00+00             3/27/2013   \n\n                              JUNCTIONTYPE UNDERINFL   WEATHER ROADCOND  \\\n0                        Driveway Junction         N     Clear      Dry   \n1  Mid-Block (not related to intersection)         0  Overcast      Dry   \n2   At Intersection (intersection related)         N  Overcast      Wet   \n3   At Intersection (intersection related)       NaN       NaN      NaN   \n4  Mid-Block (not related to intersection)       NaN       NaN      NaN   \n\n                 LIGHTCOND SEGLANEKEY CROSSWALKKEY  \n0                 Daylight      15057            0  \n1  Dark - Street Lights On          0            0  \n2                 Daylight          0            0  \n3                      NaN          0            0  \n4                      NaN          0            0  \n\n[5 rows x 23 columns]",
                        "text/html": "<div>\n<style scoped>\n    .dataframe tbody tr th:only-of-type {\n        vertical-align: middle;\n    }\n\n    .dataframe tbody tr th {\n        vertical-align: top;\n    }\n\n    .dataframe thead th {\n        text-align: right;\n    }\n</style>\n<table border=\"1\" class=\"dataframe\">\n  <thead>\n    <tr style=\"text-align: right;\">\n      <th></th>\n      <th>X</th>\n      <th>Y</th>\n      <th>ADDRTYPE</th>\n      <th>LOCATION</th>\n      <th>SEVERITYCODE</th>\n      <th>SEVERITYDESC</th>\n      <th>COLLISIONTYPE</th>\n      <th>PERSONCOUNT</th>\n      <th>PEDCOUNT</th>\n      <th>PEDCYLCOUNT</th>\n      <th>...</th>\n      <th>FATALITIES</th>\n      <th>INCDATE</th>\n      <th>INCDTTM</th>\n      <th>JUNCTIONTYPE</th>\n      <th>UNDERINFL</th>\n      <th>WEATHER</th>\n      <th>ROADCOND</th>\n      <th>LIGHTCOND</th>\n      <th>SEGLANEKEY</th>\n      <th>CROSSWALKKEY</th>\n    </tr>\n  </thead>\n  <tbody>\n    <tr>\n      <th>0</th>\n      <td>-122.344896</td>\n      <td>47.717173</td>\n      <td>Block</td>\n      <td>AURORA AVE N BETWEEN N 117TH PL AND N 125TH ST</td>\n      <td>2</td>\n      <td>Injury Collision</td>\n      <td>Cycles</td>\n      <td>2</td>\n      <td>0</td>\n      <td>1</td>\n      <td>...</td>\n      <td>0</td>\n      <td>2013/03/14 00:00:00+00</td>\n      <td>3/14/2013 5:30:00 PM</td>\n      <td>Driveway Junction</td>\n      <td>N</td>\n      <td>Clear</td>\n      <td>Dry</td>\n      <td>Daylight</td>\n      <td>15057</td>\n      <td>0</td>\n    </tr>\n    <tr>\n      <th>1</th>\n      <td>-122.376467</td>\n      <td>47.543774</td>\n      <td>Block</td>\n      <td>35TH AVE SW BETWEEN SW MORGAN ST AND SW HOLLY ST</td>\n      <td>2</td>\n      <td>Injury Collision</td>\n      <td>Pedestrian</td>\n      <td>7</td>\n      <td>1</td>\n      <td>0</td>\n      <td>...</td>\n      <td>0</td>\n      <td>2006/01/15 00:00:00+00</td>\n      <td>1/15/2006 5:35:00 PM</td>\n      <td>Mid-Block (not related to intersection)</td>\n      <td>0</td>\n      <td>Overcast</td>\n      <td>Dry</td>\n      <td>Dark - Street Lights On</td>\n      <td>0</td>\n      <td>0</td>\n    </tr>\n    <tr>\n      <th>2</th>\n      <td>-122.360735</td>\n      <td>47.701487</td>\n      <td>Intersection</td>\n      <td>3RD AVE NW AND NW 100TH ST</td>\n      <td>1</td>\n      <td>Property Damage Only Collision</td>\n      <td>Angles</td>\n      <td>2</td>\n      <td>0</td>\n      <td>0</td>\n      <td>...</td>\n      <td>0</td>\n      <td>2019/09/09 00:00:00+00</td>\n      <td>9/9/2019 3:32:00 PM</td>\n      <td>At Intersection (intersection related)</td>\n      <td>N</td>\n      <td>Overcast</td>\n      <td>Wet</td>\n      <td>Daylight</td>\n      <td>0</td>\n      <td>0</td>\n    </tr>\n    <tr>\n      <th>3</th>\n      <td>-122.297415</td>\n      <td>47.599233</td>\n      <td>Intersection</td>\n      <td>M L KING JR WAY S AND S JACKSON ST</td>\n      <td>1</td>\n      <td>Property Damage Only Collision</td>\n      <td>NaN</td>\n      <td>2</td>\n      <td>0</td>\n      <td>0</td>\n      <td>...</td>\n      <td>0</td>\n      <td>2019/12/19 00:00:00+00</td>\n      <td>12/19/2019</td>\n      <td>At Intersection (intersection related)</td>\n      <td>NaN</td>\n      <td>NaN</td>\n      <td>NaN</td>\n      <td>NaN</td>\n      <td>0</td>\n      <td>0</td>\n    </tr>\n    <tr>\n      <th>4</th>\n      <td>-122.368001</td>\n      <td>47.653585</td>\n      <td>Block</td>\n      <td>W EWING ST BETWEEN 6TH AVE W AND W EWING PL</td>\n      <td>0</td>\n      <td>Unknown</td>\n      <td>NaN</td>\n      <td>1</td>\n      <td>0</td>\n      <td>0</td>\n      <td>...</td>\n      <td>0</td>\n      <td>2013/03/27 00:00:00+00</td>\n      <td>3/27/2013</td>\n      <td>Mid-Block (not related to intersection)</td>\n      <td>NaN</td>\n      <td>NaN</td>\n      <td>NaN</td>\n      <td>NaN</td>\n      <td>0</td>\n      <td>0</td>\n    </tr>\n  </tbody>\n</table>\n<p>5 rows \u00d7 23 columns</p>\n</div>"
                    },
                    "metadata": {}
                }
            ]
        },
        {
            "metadata": {},
            "cell_type": "markdown",
            "source": "Date and time has no bearing on our analysis since light conditions have already been taken into account in the column \"Light Condition\". Therefore, we will drop these columns as well."
        },
        {
            "metadata": {},
            "cell_type": "code",
            "source": "DataSet.drop([\"INCDATE\", \"INCDTTM\"], axis=1, inplace=True)",
            "execution_count": 9,
            "outputs": []
        },
        {
            "metadata": {},
            "cell_type": "markdown",
            "source": "Further study of the data source documentation shows us that some columns are a result of the accident and not the cause. Therefore, it is safe to assume to delete them as well as they serve no purpose."
        },
        {
            "metadata": {},
            "cell_type": "code",
            "source": "DataSet.drop([\"COLLISIONTYPE\",\"PERSONCOUNT\", \"PEDCOUNT\", \"PEDCYLCOUNT\", \"VEHCOUNT\", \"INJURIES\", \"SERIOUSINJURIES\", \"FATALITIES\"], axis=1, inplace=True)",
            "execution_count": 10,
            "outputs": []
        },
        {
            "metadata": {},
            "cell_type": "markdown",
            "source": "SEVERITYCODE and SEVERITYDESC convey the same information. So does X,Y (Co-Ordinates) and LOCATION. Therefore, we will delete redundant columns."
        },
        {
            "metadata": {},
            "cell_type": "code",
            "source": "DataSet.drop([\"SEVERITYDESC\"], axis=1, inplace=True)",
            "execution_count": 11,
            "outputs": []
        },
        {
            "metadata": {},
            "cell_type": "code",
            "source": "DataSet.drop([\"LOCATION\"], axis=1, inplace=True)",
            "execution_count": 12,
            "outputs": []
        },
        {
            "metadata": {},
            "cell_type": "markdown",
            "source": "Lets have a fresh view of the data again"
        },
        {
            "metadata": {},
            "cell_type": "code",
            "source": "DataSet.head()",
            "execution_count": 13,
            "outputs": [
                {
                    "output_type": "execute_result",
                    "execution_count": 13,
                    "data": {
                        "text/plain": "            X          Y      ADDRTYPE SEVERITYCODE  \\\n0 -122.344896  47.717173         Block            2   \n1 -122.376467  47.543774         Block            2   \n2 -122.360735  47.701487  Intersection            1   \n3 -122.297415  47.599233  Intersection            1   \n4 -122.368001  47.653585         Block            0   \n\n                              JUNCTIONTYPE UNDERINFL   WEATHER ROADCOND  \\\n0                        Driveway Junction         N     Clear      Dry   \n1  Mid-Block (not related to intersection)         0  Overcast      Dry   \n2   At Intersection (intersection related)         N  Overcast      Wet   \n3   At Intersection (intersection related)       NaN       NaN      NaN   \n4  Mid-Block (not related to intersection)       NaN       NaN      NaN   \n\n                 LIGHTCOND  SEGLANEKEY  CROSSWALKKEY  \n0                 Daylight       15057             0  \n1  Dark - Street Lights On           0             0  \n2                 Daylight           0             0  \n3                      NaN           0             0  \n4                      NaN           0             0  ",
                        "text/html": "<div>\n<style scoped>\n    .dataframe tbody tr th:only-of-type {\n        vertical-align: middle;\n    }\n\n    .dataframe tbody tr th {\n        vertical-align: top;\n    }\n\n    .dataframe thead th {\n        text-align: right;\n    }\n</style>\n<table border=\"1\" class=\"dataframe\">\n  <thead>\n    <tr style=\"text-align: right;\">\n      <th></th>\n      <th>X</th>\n      <th>Y</th>\n      <th>ADDRTYPE</th>\n      <th>SEVERITYCODE</th>\n      <th>JUNCTIONTYPE</th>\n      <th>UNDERINFL</th>\n      <th>WEATHER</th>\n      <th>ROADCOND</th>\n      <th>LIGHTCOND</th>\n      <th>SEGLANEKEY</th>\n      <th>CROSSWALKKEY</th>\n    </tr>\n  </thead>\n  <tbody>\n    <tr>\n      <th>0</th>\n      <td>-122.344896</td>\n      <td>47.717173</td>\n      <td>Block</td>\n      <td>2</td>\n      <td>Driveway Junction</td>\n      <td>N</td>\n      <td>Clear</td>\n      <td>Dry</td>\n      <td>Daylight</td>\n      <td>15057</td>\n      <td>0</td>\n    </tr>\n    <tr>\n      <th>1</th>\n      <td>-122.376467</td>\n      <td>47.543774</td>\n      <td>Block</td>\n      <td>2</td>\n      <td>Mid-Block (not related to intersection)</td>\n      <td>0</td>\n      <td>Overcast</td>\n      <td>Dry</td>\n      <td>Dark - Street Lights On</td>\n      <td>0</td>\n      <td>0</td>\n    </tr>\n    <tr>\n      <th>2</th>\n      <td>-122.360735</td>\n      <td>47.701487</td>\n      <td>Intersection</td>\n      <td>1</td>\n      <td>At Intersection (intersection related)</td>\n      <td>N</td>\n      <td>Overcast</td>\n      <td>Wet</td>\n      <td>Daylight</td>\n      <td>0</td>\n      <td>0</td>\n    </tr>\n    <tr>\n      <th>3</th>\n      <td>-122.297415</td>\n      <td>47.599233</td>\n      <td>Intersection</td>\n      <td>1</td>\n      <td>At Intersection (intersection related)</td>\n      <td>NaN</td>\n      <td>NaN</td>\n      <td>NaN</td>\n      <td>NaN</td>\n      <td>0</td>\n      <td>0</td>\n    </tr>\n    <tr>\n      <th>4</th>\n      <td>-122.368001</td>\n      <td>47.653585</td>\n      <td>Block</td>\n      <td>0</td>\n      <td>Mid-Block (not related to intersection)</td>\n      <td>NaN</td>\n      <td>NaN</td>\n      <td>NaN</td>\n      <td>NaN</td>\n      <td>0</td>\n      <td>0</td>\n    </tr>\n  </tbody>\n</table>\n</div>"
                    },
                    "metadata": {}
                }
            ]
        },
        {
            "metadata": {},
            "cell_type": "markdown",
            "source": "We will now deep dive into each feature to see what kind of data distrbution do we have."
        },
        {
            "metadata": {},
            "cell_type": "code",
            "source": "DataSet.ADDRTYPE.value_counts()",
            "execution_count": 14,
            "outputs": [
                {
                    "output_type": "execute_result",
                    "execution_count": 14,
                    "data": {
                        "text/plain": "Block           144999\nIntersection     71936\nAlley              878\nName: ADDRTYPE, dtype: int64"
                    },
                    "metadata": {}
                }
            ]
        },
        {
            "metadata": {},
            "cell_type": "code",
            "source": "DataSet.SEVERITYCODE.value_counts()",
            "execution_count": 15,
            "outputs": [
                {
                    "output_type": "execute_result",
                    "execution_count": 15,
                    "data": {
                        "text/plain": "1     137671\n2      58783\n0      21615\n2b      3105\n3        350\nName: SEVERITYCODE, dtype: int64"
                    },
                    "metadata": {}
                }
            ]
        },
        {
            "metadata": {},
            "cell_type": "code",
            "source": "DataSet.JUNCTIONTYPE.value_counts()",
            "execution_count": 16,
            "outputs": [
                {
                    "output_type": "execute_result",
                    "execution_count": 16,
                    "data": {
                        "text/plain": "Mid-Block (not related to intersection)              101709\nAt Intersection (intersection related)                69228\nMid-Block (but intersection related)                  24410\nDriveway Junction                                     11496\nAt Intersection (but not related to intersection)      2497\nRamp Junction                                           190\nUnknown                                                  21\nName: JUNCTIONTYPE, dtype: int64"
                    },
                    "metadata": {}
                }
            ]
        },
        {
            "metadata": {
                "scrolled": true
            },
            "cell_type": "code",
            "source": "DataSet.UNDERINFL.value_counts()",
            "execution_count": 17,
            "outputs": [
                {
                    "output_type": "execute_result",
                    "execution_count": 17,
                    "data": {
                        "text/plain": "N    103927\n0     81676\nY      5399\n1      4230\nName: UNDERINFL, dtype: int64"
                    },
                    "metadata": {}
                }
            ]
        },
        {
            "metadata": {
                "scrolled": true
            },
            "cell_type": "code",
            "source": "DataSet.WEATHER.value_counts()",
            "execution_count": 18,
            "outputs": [
                {
                    "output_type": "execute_result",
                    "execution_count": 18,
                    "data": {
                        "text/plain": "Clear                       114738\nRaining                      34036\nOvercast                     28552\nUnknown                      15131\nSnowing                        919\nOther                          860\nFog/Smog/Smoke                 577\nSleet/Hail/Freezing Rain       116\nBlowing Sand/Dirt               56\nSevere Crosswind                26\nPartly Cloudy                   10\nBlowing Snow                     1\nName: WEATHER, dtype: int64"
                    },
                    "metadata": {}
                }
            ]
        },
        {
            "metadata": {
                "scrolled": true
            },
            "cell_type": "code",
            "source": "DataSet.ROADCOND.value_counts()",
            "execution_count": 19,
            "outputs": [
                {
                    "output_type": "execute_result",
                    "execution_count": 19,
                    "data": {
                        "text/plain": "Dry               128588\nWet                48734\nUnknown            15139\nIce                 1232\nSnow/Slush          1014\nOther                136\nStanding Water       119\nSand/Mud/Dirt         77\nOil                   64\nName: ROADCOND, dtype: int64"
                    },
                    "metadata": {}
                }
            ]
        },
        {
            "metadata": {
                "scrolled": true
            },
            "cell_type": "code",
            "source": "DataSet.LIGHTCOND.value_counts()",
            "execution_count": 20,
            "outputs": [
                {
                    "output_type": "execute_result",
                    "execution_count": 20,
                    "data": {
                        "text/plain": "Daylight                    119492\nDark - Street Lights On      50133\nUnknown                      13532\nDusk                          6082\nDawn                          2609\nDark - No Street Lights       1579\nDark - Street Lights Off      1239\nOther                          244\nDark - Unknown Lighting         23\nName: LIGHTCOND, dtype: int64"
                    },
                    "metadata": {}
                }
            ]
        },
        {
            "metadata": {},
            "cell_type": "code",
            "source": "DataSet.SEGLANEKEY.value_counts()",
            "execution_count": 21,
            "outputs": [
                {
                    "output_type": "execute_result",
                    "execution_count": 21,
                    "data": {
                        "text/plain": "0        218489\n6532         19\n6078         19\n12162        18\n10336        15\n10342        13\n8985         12\n10420        12\n8816         12\n10354        11\n12179        11\n10590         9\n10368         9\n8995          8\n10374         8\n10773         8\n8990          7\n10566         7\n12941         7\n42777         7\n2426          6\n12035         6\n10802         6\n10408         6\n6292          6\n9002          6\n8240          6\n6322          6\n12788         6\n42166         6\n          ...  \n35395         1\n33344         1\n6483          1\n37186         1\n24899         1\n2255          1\n10827         1\n6861          1\n41818         1\n19911         1\n7757          1\n36575         1\n24389         1\n38748         1\n34782         1\n10442         1\n20933         1\n10453         1\n8651          1\n13001         1\n35934         1\n21701         1\n15688         1\n17863         1\n20038         1\n9803          1\n14281         1\n4178          1\n6355          1\n9402          1\nName: SEGLANEKEY, Length: 2101, dtype: int64"
                    },
                    "metadata": {}
                }
            ]
        },
        {
            "metadata": {},
            "cell_type": "code",
            "source": "DataSet.CROSSWALKKEY.value_counts()",
            "execution_count": 22,
            "outputs": [
                {
                    "output_type": "execute_result",
                    "execution_count": 22,
                    "data": {
                        "text/plain": "0         217283\n523609        19\n520838        15\n524265        13\n525567        13\n523148        11\n521707        10\n523699        10\n523735        10\n521574         9\n523109         9\n521253         9\n522891         9\n521604         9\n524178         9\n522108         9\n521863         9\n524029         9\n525659         8\n522264         8\n523176         8\n525566         8\n525644         8\n523987         8\n521040         8\n524689         8\n521750         8\n522377         8\n520855         8\n521581         7\n           ...  \n522527         1\n524103         1\n32695          1\n603091         1\n524473         1\n522438         1\n630796         1\n523720         1\n28347          1\n35825          1\n523679         1\n523423         1\n36647          1\n522056         1\n524105         1\n522184         1\n524471         1\n631171         1\n522696         1\n631299         1\n522824         1\n523295         1\n631427         1\n29369          1\n522952         1\n525111         1\n523080         1\n521033         1\n523208         1\n521927         1\nName: CROSSWALKKEY, Length: 2343, dtype: int64"
                    },
                    "metadata": {}
                }
            ]
        },
        {
            "metadata": {},
            "cell_type": "markdown",
            "source": "The features SEGLANEKEY and CROSSWALKKEY have skewed data since major samples lie in the bracket \"0\". Therefore, it will not be helpful and will be deleted as well."
        },
        {
            "metadata": {},
            "cell_type": "code",
            "source": "DataSet.drop([\"SEGLANEKEY\", \"CROSSWALKKEY\"], axis=1, inplace=True)",
            "execution_count": 23,
            "outputs": []
        },
        {
            "metadata": {},
            "cell_type": "markdown",
            "source": "We can see some data points as \"Null\" and \"Unknown\" (SEVERITYCODE = 0 is also unknown) and need to handle them in our dataset. Since the data is critical, using any data interpolation methods might skew the data. Therefore, considering the criticality of the task at hand, I would prefer to drop these data points instead."
        },
        {
            "metadata": {},
            "cell_type": "code",
            "source": "# Replacing Unknown with NaN\nDataSet.replace(\"Unknown\", np.nan, inplace = True)\nDataSet['SEVERITYCODE'].replace(\"0\", np.nan, inplace = True)\n\n# Number of Unknown/Null data points per Feature\nDataSet.isnull().sum()",
            "execution_count": 24,
            "outputs": [
                {
                    "output_type": "execute_result",
                    "execution_count": 24,
                    "data": {
                        "text/plain": "X                7475\nY                7475\nADDRTYPE         3712\nSEVERITYCODE    21616\nJUNCTIONTYPE    11995\nUNDERINFL       26293\nWEATHER         41634\nROADCOND        41561\nLIGHTCOND       40124\ndtype: int64"
                    },
                    "metadata": {}
                }
            ]
        },
        {
            "metadata": {},
            "cell_type": "code",
            "source": "# Number of observations BEFORE dropping Unknown and Nulls\nDataSet.shape",
            "execution_count": 25,
            "outputs": [
                {
                    "output_type": "execute_result",
                    "execution_count": 25,
                    "data": {
                        "text/plain": "(221525, 9)"
                    },
                    "metadata": {}
                }
            ]
        },
        {
            "metadata": {},
            "cell_type": "code",
            "source": "DataSet.dropna(axis=0, inplace=True)",
            "execution_count": 26,
            "outputs": []
        },
        {
            "metadata": {},
            "cell_type": "code",
            "source": "# Number of observations AFTER dropping Unknown and Nulls\nDataSet.shape",
            "execution_count": 28,
            "outputs": [
                {
                    "output_type": "execute_result",
                    "execution_count": 28,
                    "data": {
                        "text/plain": "(170404, 9)"
                    },
                    "metadata": {}
                }
            ]
        },
        {
            "metadata": {},
            "cell_type": "markdown",
            "source": "We also realize that UNDERINFL has two data filling conventions. N meaning 0 and Y meaning 1. Therefore, we will replace 0 and 1 with N and Y to have data consistency"
        },
        {
            "metadata": {},
            "cell_type": "code",
            "source": "DataSet['UNDERINFL'].replace(\"0\", \"N\", inplace = True)\nDataSet['UNDERINFL'].replace(\"1\", \"Y\", inplace = True)",
            "execution_count": 29,
            "outputs": []
        },
        {
            "metadata": {
                "scrolled": true
            },
            "cell_type": "code",
            "source": "DataSet.UNDERINFL.value_counts()",
            "execution_count": 30,
            "outputs": [
                {
                    "output_type": "execute_result",
                    "execution_count": 30,
                    "data": {
                        "text/plain": "N    161203\nY      9201\nName: UNDERINFL, dtype: int64"
                    },
                    "metadata": {}
                }
            ]
        },
        {
            "metadata": {},
            "cell_type": "markdown",
            "source": "Lets have a fresh look at our data now after all the data cleaning is done"
        },
        {
            "metadata": {},
            "cell_type": "code",
            "source": "DataSet.head()",
            "execution_count": 31,
            "outputs": [
                {
                    "output_type": "execute_result",
                    "execution_count": 31,
                    "data": {
                        "text/plain": "            X          Y      ADDRTYPE SEVERITYCODE  \\\n0 -122.344896  47.717173         Block            2   \n1 -122.376467  47.543774         Block            2   \n2 -122.360735  47.701487  Intersection            1   \n5 -122.328550  47.704996  Intersection            2   \n6 -122.338635  47.625796  Intersection            1   \n\n                              JUNCTIONTYPE UNDERINFL   WEATHER ROADCOND  \\\n0                        Driveway Junction         N     Clear      Dry   \n1  Mid-Block (not related to intersection)         N  Overcast      Dry   \n2   At Intersection (intersection related)         N  Overcast      Wet   \n5   At Intersection (intersection related)         N     Clear      Dry   \n6   At Intersection (intersection related)         N     Clear      Dry   \n\n                 LIGHTCOND  \n0                 Daylight  \n1  Dark - Street Lights On  \n2                 Daylight  \n5                 Daylight  \n6                 Daylight  ",
                        "text/html": "<div>\n<style scoped>\n    .dataframe tbody tr th:only-of-type {\n        vertical-align: middle;\n    }\n\n    .dataframe tbody tr th {\n        vertical-align: top;\n    }\n\n    .dataframe thead th {\n        text-align: right;\n    }\n</style>\n<table border=\"1\" class=\"dataframe\">\n  <thead>\n    <tr style=\"text-align: right;\">\n      <th></th>\n      <th>X</th>\n      <th>Y</th>\n      <th>ADDRTYPE</th>\n      <th>SEVERITYCODE</th>\n      <th>JUNCTIONTYPE</th>\n      <th>UNDERINFL</th>\n      <th>WEATHER</th>\n      <th>ROADCOND</th>\n      <th>LIGHTCOND</th>\n    </tr>\n  </thead>\n  <tbody>\n    <tr>\n      <th>0</th>\n      <td>-122.344896</td>\n      <td>47.717173</td>\n      <td>Block</td>\n      <td>2</td>\n      <td>Driveway Junction</td>\n      <td>N</td>\n      <td>Clear</td>\n      <td>Dry</td>\n      <td>Daylight</td>\n    </tr>\n    <tr>\n      <th>1</th>\n      <td>-122.376467</td>\n      <td>47.543774</td>\n      <td>Block</td>\n      <td>2</td>\n      <td>Mid-Block (not related to intersection)</td>\n      <td>N</td>\n      <td>Overcast</td>\n      <td>Dry</td>\n      <td>Dark - Street Lights On</td>\n    </tr>\n    <tr>\n      <th>2</th>\n      <td>-122.360735</td>\n      <td>47.701487</td>\n      <td>Intersection</td>\n      <td>1</td>\n      <td>At Intersection (intersection related)</td>\n      <td>N</td>\n      <td>Overcast</td>\n      <td>Wet</td>\n      <td>Daylight</td>\n    </tr>\n    <tr>\n      <th>5</th>\n      <td>-122.328550</td>\n      <td>47.704996</td>\n      <td>Intersection</td>\n      <td>2</td>\n      <td>At Intersection (intersection related)</td>\n      <td>N</td>\n      <td>Clear</td>\n      <td>Dry</td>\n      <td>Daylight</td>\n    </tr>\n    <tr>\n      <th>6</th>\n      <td>-122.338635</td>\n      <td>47.625796</td>\n      <td>Intersection</td>\n      <td>1</td>\n      <td>At Intersection (intersection related)</td>\n      <td>N</td>\n      <td>Clear</td>\n      <td>Dry</td>\n      <td>Daylight</td>\n    </tr>\n  </tbody>\n</table>\n</div>"
                    },
                    "metadata": {}
                }
            ]
        },
        {
            "metadata": {},
            "cell_type": "markdown",
            "source": "Let us also see what is the data type of the data we have"
        },
        {
            "metadata": {},
            "cell_type": "code",
            "source": "DataSet.dtypes",
            "execution_count": 32,
            "outputs": [
                {
                    "output_type": "execute_result",
                    "execution_count": 32,
                    "data": {
                        "text/plain": "X               float64\nY               float64\nADDRTYPE         object\nSEVERITYCODE     object\nJUNCTIONTYPE     object\nUNDERINFL        object\nWEATHER          object\nROADCOND         object\nLIGHTCOND        object\ndtype: object"
                    },
                    "metadata": {}
                }
            ]
        },
        {
            "metadata": {},
            "cell_type": "markdown",
            "source": "# Model Development\n\nWe will now determine our X (Independent Variables) and Y (Dependent variable) and start developing models"
        },
        {
            "metadata": {},
            "cell_type": "code",
            "source": "X = DataSet[[\"X\", \"Y\", \"ADDRTYPE\", \"JUNCTIONTYPE\", \"UNDERINFL\", \"WEATHER\", \"ROADCOND\", \"LIGHTCOND\"]].values",
            "execution_count": 33,
            "outputs": []
        },
        {
            "metadata": {},
            "cell_type": "code",
            "source": "y = DataSet[\"SEVERITYCODE\"]",
            "execution_count": 34,
            "outputs": []
        },
        {
            "metadata": {},
            "cell_type": "markdown",
            "source": "## Pre-Processing Data"
        },
        {
            "metadata": {},
            "cell_type": "markdown",
            "source": "As we saw earlier, almost all features in this dataset are categorical. We will have to convert these features to numerical values."
        },
        {
            "metadata": {},
            "cell_type": "code",
            "source": "from sklearn import preprocessing\n\nle = preprocessing.LabelEncoder()\nX[:,2] = le.fit(DataSet.ADDRTYPE.unique()).transform(X[:,2])\nX[:,3] = le.fit(DataSet.JUNCTIONTYPE.unique()).transform(X[:,3])\nX[:,4] = le.fit(DataSet.UNDERINFL.unique()).transform(X[:,4])\nX[:,5] = le.fit(DataSet.WEATHER.unique()).transform(X[:,5])\nX[:,6] = le.fit(DataSet.ROADCOND.unique()).transform(X[:,6])\nX[:,7] = le.fit(DataSet.LIGHTCOND.unique()).transform(X[:,7])",
            "execution_count": 35,
            "outputs": []
        },
        {
            "metadata": {},
            "cell_type": "markdown",
            "source": "We will now do standardization and normalization of the data. This is standard practice to avoid data of different ranges affecting the accuracy of the model."
        },
        {
            "metadata": {},
            "cell_type": "code",
            "source": "X = preprocessing.StandardScaler().fit(X).transform(X.astype(float))",
            "execution_count": 36,
            "outputs": [
                {
                    "output_type": "stream",
                    "text": "/opt/conda/envs/Python36/lib/python3.6/site-packages/sklearn/utils/validation.py:595: DataConversionWarning: Data with input dtype object was converted to float64 by StandardScaler.\n  warnings.warn(msg, DataConversionWarning)\n",
                    "name": "stderr"
                }
            ]
        },
        {
            "metadata": {},
            "cell_type": "markdown",
            "source": "The next step would be to divide our data set into training and testing sets. We will use these to see the accuracy of our model. We will be using a split of 70:30."
        },
        {
            "metadata": {},
            "cell_type": "code",
            "source": "from sklearn.model_selection import train_test_split\n\nX_trainset, X_testset, y_trainset, y_testset = train_test_split(X, y, test_size=0.35, random_state=3)",
            "execution_count": 37,
            "outputs": []
        },
        {
            "metadata": {},
            "cell_type": "markdown",
            "source": "# KNN"
        },
        {
            "metadata": {},
            "cell_type": "code",
            "source": "from sklearn.neighbors import KNeighborsClassifier\nfrom sklearn import metrics\n\n#We can calculate the accuracy of KNN for different Ks\nKs = 15\nmean_acc = np.zeros((Ks-1))\nstd_acc = np.zeros((Ks-1))\nConfustionMx = [];\n\nfor n in range(1,Ks):\n    \n    #Train Model and Predict  \n    neigh = KNeighborsClassifier(n_neighbors = n).fit(X_trainset,y_trainset)\n    yhat=neigh.predict(X_testset)\n    mean_acc[n-1] = metrics.accuracy_score(y_testset, yhat)\n    std_acc[n-1]=np.std(yhat==y_testset)/np.sqrt(yhat.shape[0])\n\nmean_acc\n\n#Plot model accuracy for Different number of Neighbors\nplt.plot(range(1,Ks),mean_acc,'g')\nplt.fill_between(range(1,Ks),mean_acc - 1 * std_acc,mean_acc + 1 * std_acc, alpha=0.10)\nplt.legend(('Accuracy ', '+/- 3xstd'))\nplt.ylabel('Accuracy ')\nplt.xlabel('Number of Neighbours (K)')\nplt.tight_layout()\nplt.show()",
            "execution_count": 38,
            "outputs": [
                {
                    "output_type": "display_data",
                    "data": {
                        "text/plain": "<Figure size 432x288 with 1 Axes>",
                        "image/png": "[encoded data removed]"
                    },
                    "metadata": {
                        "needs_background": "light"
                    }
                }
            ]
        },
        {
            "metadata": {},
            "cell_type": "code",
            "source": "k = 10\n\n#Train Model and Predict  \nneigh = KNeighborsClassifier(n_neighbors = k).fit(X_trainset,y_trainset)\n\n#Predicting\nyhat_KNN = neigh.predict(X_testset)\n\n#Accuracy evaluation\nfrom sklearn import metrics\nprint(\"Train set Accuracy: \", metrics.accuracy_score(y_trainset, neigh.predict(X_trainset)))\nprint(\"Test set Accuracy: \", metrics.accuracy_score(y_testset, yhat_KNN))",
            "execution_count": 39,
            "outputs": [
                {
                    "output_type": "stream",
                    "text": "Train set Accuracy:  0.6928368935194381\nTest set Accuracy:  0.6391301431876866\n",
                    "name": "stdout"
                }
            ]
        },
        {
            "metadata": {},
            "cell_type": "markdown",
            "source": "## Decision Tree"
        },
        {
            "metadata": {},
            "cell_type": "code",
            "source": "#Modeling\nfrom sklearn.tree import DecisionTreeClassifier\n\nSevTree = DecisionTreeClassifier(criterion=\"entropy\", max_depth = 4)\nSevTree.fit(X_trainset,y_trainset)\n\n#Prediction\npredTree = SevTree.predict(X_testset)\n\n#Evaluation\nfrom sklearn import metrics\n\nprint(\"Train set Accuracy: \", metrics.accuracy_score(y_trainset, SevTree.predict(X_trainset)))\nprint(\"Test set Accuracy: \", metrics.accuracy_score(y_testset, predTree))",
            "execution_count": 40,
            "outputs": [
                {
                    "output_type": "stream",
                    "text": "Train set Accuracy:  0.6569671909138514\nTest set Accuracy:  0.6554776835116193\n",
                    "name": "stdout"
                }
            ]
        },
        {
            "metadata": {},
            "cell_type": "markdown",
            "source": "## Model Evaluation using Test set"
        },
        {
            "metadata": {},
            "cell_type": "markdown",
            "source": "We will be using f1 score and Jaccard to evaluate our models"
        },
        {
            "metadata": {},
            "cell_type": "code",
            "source": "from sklearn.metrics import f1_score\nfrom sklearn.metrics import jaccard_similarity_score",
            "execution_count": 41,
            "outputs": []
        },
        {
            "metadata": {},
            "cell_type": "code",
            "source": "# f1_score\nprint(\"KNN F1-score: \", f1_score(y_testset, yhat_KNN, average='weighted'))\n\n# Jaccard\nprint(\"KNN Jaccard index: \", jaccard_similarity_score(y_testset, yhat_KNN))",
            "execution_count": 42,
            "outputs": [
                {
                    "output_type": "stream",
                    "text": "KNN F1-score:  0.5852348738580737\nKNN Jaccard index:  0.6391301431876866\n",
                    "name": "stdout"
                },
                {
                    "output_type": "stream",
                    "text": "/opt/conda/envs/Python36/lib/python3.6/site-packages/sklearn/metrics/classification.py:1143: UndefinedMetricWarning: F-score is ill-defined and being set to 0.0 in labels with no predicted samples.\n  'precision', 'predicted', average, warn_for)\n",
                    "name": "stderr"
                }
            ]
        },
        {
            "metadata": {},
            "cell_type": "code",
            "source": "# f1_score\nprint(\"Decision Tree F1-score: \", f1_score(y_testset, predTree, average='weighted'))\n\n# Jaccard\nprint(\"Decision Tree Jaccard index: \", jaccard_similarity_score(y_testset, predTree))",
            "execution_count": 43,
            "outputs": [
                {
                    "output_type": "stream",
                    "text": "Decision Tree F1-score:  0.5296838384680211\nDecision Tree Jaccard index:  0.6554776835116193\n",
                    "name": "stdout"
                }
            ]
        },
        {
            "metadata": {},
            "cell_type": "markdown",
            "source": "# Conclusion\n\nTo summarize, we realized that both our models were able to predict the outcome with considerable accuracy. The decision tree was able to outperform KNN by a slight margin and naturally will be the choice of model used moving forward. The model accuracy can be further improved by using other complex models available.\n\nThe Seattle department can now take it account these findings to be able to improve safety standards on the roads of Seattle."
        },
        {
            "metadata": {},
            "cell_type": "markdown",
            "source": "# Thank you for your time!"
        }
    ],
    "metadata": {
        "kernelspec": {
            "name": "python3",
            "display_name": "Python 3.6",
            "language": "python"
        },
        "language_info": {
            "name": "python",
            "version": "3.6.9",
            "mimetype": "text/x-python",
            "codemirror_mode": {
                "name": "ipython",
                "version": 3
            },
            "pygments_lexer": "ipython3",
            "nbconvert_exporter": "python",
            "file_extension": ".py"
        }
    },
    "nbformat": 4,
    "nbformat_minor": 1
}