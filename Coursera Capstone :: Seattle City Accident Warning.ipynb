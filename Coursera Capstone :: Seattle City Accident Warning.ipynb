{
    "cells": [
        {
            "metadata": {
                "collapsed": true
            },
            "cell_type": "markdown",
            "source": "# **Car Accident Warning System :: Seattle City**\n---"
        },
        {
            "metadata": {},
            "cell_type": "markdown",
            "source": "## Introduction / Business Understanding"
        },
        {
            "metadata": {},
            "cell_type": "markdown",
            "source": "Everyone who commutes daily to work would know that traveling can be a stressful and time wasting activity if not planned properly. Traveling time is one of the main factors that determine how pleasant your commute to and from work would be. One of the factors that needs to be taken into account is facing a Congestion/Traffic Jam because of an accident that took place on the route you take. The aim of this project is to see if we can build a model to be able to predict the severity and/or probability of an accident taking place taking into account different environmental/traffic/geographical factors. This will be able to help both, law enforcing agencies as well as daily commuters.\n\n* **Law enforcing agencies** stand to gain by being able to proactively avert such accidents if a certain set of conditions arrive and being able to take appropriate actions if and when it does, so that they can ensure minimum impact on traffic flow.\n\n* **Commuters** stand to gain by being forewarned about the accidents and planning/rerouting their journey accordingly. They can also be more vigilant in certain conditions that are prone to accidents.\n\nIn the end, we all stand to gain collectively as a society as we will have less accidents, safer roads, less pollution (noise and air) due to less traffic jams and an over improvement in daily commute both in terms of time and stress."
        },
        {
            "metadata": {},
            "cell_type": "markdown",
            "source": "## Data Analysis"
        },
        {
            "metadata": {},
            "cell_type": "markdown",
            "source": "To realize the solution to the problem at hand, we needed an appropriate data source that contains data on past incidents, the conditions they took place in and outcomes, related to traffic related accidents. We got a data source from the Government of Seattle Website (https://data.seattle.gov/Land-Base/Collisions/9kas-rb8d) that contains the latest dateset for us to analyze and build a model to be able to predict the desired results.\n\nThere are a total of **40 Variables** and **221267 Data points/Observations**. Looking at the data set, we see some columns that look useful, including \n\n* **LOCATION** - Description of the general location of the collision\n* **SEVERITYCODE** - A code that corresponds to the severity of the collision ( 3\u2014fatality, 2b\u2014serious injury, 2\u2014injury, 1\u2014prop damage, 0\u2014unknown)\n* **SEVERITYDESC** - A detailed description of the severity of the collision\n* **JUNCTIONTYPE** - Category of junction at which collision took place\n* **UNDERINFL** - Whether or not a driver involved was under the influence of drugs or alcohol\n* **INCDTTM** - The date and time of the incident (Time of the day might be of importance here)\n* **WEATHER** - A description of the weather conditions during the time of the collision\n* **ROADCOND** - The condition of the road during the collision\n* **LIGHTCOND** - The condition of the road during the collision\n\nOur Dependent/Predicted Variable will be **SEVERITYCODE** and during data processing and subsequent stages, we will go into in-depth analysis to see how each independent variable varies/is related to the dependent variable.\n\nNote that data filtering will be needed to remove unwanted Columns/Variables and to remove and Null/Empty/Unwanted data observations. We will also need to do other data processing steps such a type casting, standardization, dummy variable creation etc."
        },
        {
            "metadata": {},
            "cell_type": "code",
            "source": "import numpy as np \nimport pandas as pd\n#!conda install -c anaconda xlrd --yes\n\n%matplotlib inline \n\nimport matplotlib as mpl\nimport matplotlib.pyplot as plt\n\nimport pylab as pl\nimport numpy as np\n%matplotlib inline\n\nmpl.style.use('ggplot')",
            "execution_count": 12,
            "outputs": []
        },
        {
            "metadata": {},
            "cell_type": "code",
            "source": "DataSet = pd.read_csv(\"http://data-seattlecitygis.opendata.arcgis.com/datasets/5b5c745e0f1f48e7a53acec63a0022ab_0.csv\")",
            "execution_count": 21,
            "outputs": []
        },
        {
            "metadata": {},
            "cell_type": "code",
            "source": "DataSet.head()",
            "execution_count": 22,
            "outputs": [
                {
                    "output_type": "execute_result",
                    "execution_count": 22,
                    "data": {
                        "text/plain": "            X          Y  OBJECTID  INCKEY  COLDETKEY   REPORTNO     STATUS  \\\n0 -122.320757  47.609408         1  328476     329976    EA08706    Matched   \n1 -122.319561  47.662221         2  328142     329642    EA06882    Matched   \n2 -122.327525  47.604393         3   20700      20700    1181833  Unmatched   \n3 -122.327525  47.708622         4  332126     333626  M16001640  Unmatched   \n4 -122.292120  47.559009         5  328238     329738    3857118  Unmatched   \n\n  ADDRTYPE  INTKEY                                           LOCATION  ...  \\\n0    Block     NaN    BROADWAY BETWEEN E COLUMBIA ST AND BOYLSTON AVE  ...   \n1    Block     NaN     8TH AVE NE BETWEEN NE 45TH E ST AND NE 47TH ST  ...   \n2    Block     NaN               JAMES ST BETWEEN 6TH AVE AND 7TH AVE  ...   \n3    Block     NaN  NE NORTHGATE WAY BETWEEN 1ST AVE NE AND NE NOR...  ...   \n4    Block     NaN  M L KING JR ER WAY S BETWEEN S ANGELINE ST AND...  ...   \n\n  ROADCOND                LIGHTCOND PEDROWNOTGRNT SDOTCOLNUM SPEEDING  \\\n0      Wet  Dark - Street Lights On           NaN        NaN      NaN   \n1      Dry                 Daylight           NaN        NaN      NaN   \n2      NaN                      NaN           NaN  4030032.0      NaN   \n3      NaN                      NaN           NaN        NaN      NaN   \n4      NaN                      NaN           NaN        NaN      NaN   \n\n   ST_COLCODE                                         ST_COLDESC  SEGLANEKEY  \\\n0          11  From same direction - both going straight - bo...           0   \n1          32                             One parked--one moving           0   \n2         NaN                                                NaN           0   \n3                                                            NaN           0   \n4                                                            NaN           0   \n\n   CROSSWALKKEY  HITPARKEDCAR  \n0             0             N  \n1             0             Y  \n2             0             N  \n3             0             N  \n4             0             N  \n\n[5 rows x 40 columns]",
                        "text/html": "<div>\n<style scoped>\n    .dataframe tbody tr th:only-of-type {\n        vertical-align: middle;\n    }\n\n    .dataframe tbody tr th {\n        vertical-align: top;\n    }\n\n    .dataframe thead th {\n        text-align: right;\n    }\n</style>\n<table border=\"1\" class=\"dataframe\">\n  <thead>\n    <tr style=\"text-align: right;\">\n      <th></th>\n      <th>X</th>\n      <th>Y</th>\n      <th>OBJECTID</th>\n      <th>INCKEY</th>\n      <th>COLDETKEY</th>\n      <th>REPORTNO</th>\n      <th>STATUS</th>\n      <th>ADDRTYPE</th>\n      <th>INTKEY</th>\n      <th>LOCATION</th>\n      <th>...</th>\n      <th>ROADCOND</th>\n      <th>LIGHTCOND</th>\n      <th>PEDROWNOTGRNT</th>\n      <th>SDOTCOLNUM</th>\n      <th>SPEEDING</th>\n      <th>ST_COLCODE</th>\n      <th>ST_COLDESC</th>\n      <th>SEGLANEKEY</th>\n      <th>CROSSWALKKEY</th>\n      <th>HITPARKEDCAR</th>\n    </tr>\n  </thead>\n  <tbody>\n    <tr>\n      <th>0</th>\n      <td>-122.320757</td>\n      <td>47.609408</td>\n      <td>1</td>\n      <td>328476</td>\n      <td>329976</td>\n      <td>EA08706</td>\n      <td>Matched</td>\n      <td>Block</td>\n      <td>NaN</td>\n      <td>BROADWAY BETWEEN E COLUMBIA ST AND BOYLSTON AVE</td>\n      <td>...</td>\n      <td>Wet</td>\n      <td>Dark - Street Lights On</td>\n      <td>NaN</td>\n      <td>NaN</td>\n      <td>NaN</td>\n      <td>11</td>\n      <td>From same direction - both going straight - bo...</td>\n      <td>0</td>\n      <td>0</td>\n      <td>N</td>\n    </tr>\n    <tr>\n      <th>1</th>\n      <td>-122.319561</td>\n      <td>47.662221</td>\n      <td>2</td>\n      <td>328142</td>\n      <td>329642</td>\n      <td>EA06882</td>\n      <td>Matched</td>\n      <td>Block</td>\n      <td>NaN</td>\n      <td>8TH AVE NE BETWEEN NE 45TH E ST AND NE 47TH ST</td>\n      <td>...</td>\n      <td>Dry</td>\n      <td>Daylight</td>\n      <td>NaN</td>\n      <td>NaN</td>\n      <td>NaN</td>\n      <td>32</td>\n      <td>One parked--one moving</td>\n      <td>0</td>\n      <td>0</td>\n      <td>Y</td>\n    </tr>\n    <tr>\n      <th>2</th>\n      <td>-122.327525</td>\n      <td>47.604393</td>\n      <td>3</td>\n      <td>20700</td>\n      <td>20700</td>\n      <td>1181833</td>\n      <td>Unmatched</td>\n      <td>Block</td>\n      <td>NaN</td>\n      <td>JAMES ST BETWEEN 6TH AVE AND 7TH AVE</td>\n      <td>...</td>\n      <td>NaN</td>\n      <td>NaN</td>\n      <td>NaN</td>\n      <td>4030032.0</td>\n      <td>NaN</td>\n      <td>NaN</td>\n      <td>NaN</td>\n      <td>0</td>\n      <td>0</td>\n      <td>N</td>\n    </tr>\n    <tr>\n      <th>3</th>\n      <td>-122.327525</td>\n      <td>47.708622</td>\n      <td>4</td>\n      <td>332126</td>\n      <td>333626</td>\n      <td>M16001640</td>\n      <td>Unmatched</td>\n      <td>Block</td>\n      <td>NaN</td>\n      <td>NE NORTHGATE WAY BETWEEN 1ST AVE NE AND NE NOR...</td>\n      <td>...</td>\n      <td>NaN</td>\n      <td>NaN</td>\n      <td>NaN</td>\n      <td>NaN</td>\n      <td>NaN</td>\n      <td></td>\n      <td>NaN</td>\n      <td>0</td>\n      <td>0</td>\n      <td>N</td>\n    </tr>\n    <tr>\n      <th>4</th>\n      <td>-122.292120</td>\n      <td>47.559009</td>\n      <td>5</td>\n      <td>328238</td>\n      <td>329738</td>\n      <td>3857118</td>\n      <td>Unmatched</td>\n      <td>Block</td>\n      <td>NaN</td>\n      <td>M L KING JR ER WAY S BETWEEN S ANGELINE ST AND...</td>\n      <td>...</td>\n      <td>NaN</td>\n      <td>NaN</td>\n      <td>NaN</td>\n      <td>NaN</td>\n      <td>NaN</td>\n      <td></td>\n      <td>NaN</td>\n      <td>0</td>\n      <td>0</td>\n      <td>N</td>\n    </tr>\n  </tbody>\n</table>\n<p>5 rows \u00d7 40 columns</p>\n</div>"
                    },
                    "metadata": {}
                }
            ]
        },
        {
            "metadata": {},
            "cell_type": "code",
            "source": "DataSet.describe()",
            "execution_count": 23,
            "outputs": [
                {
                    "output_type": "execute_result",
                    "execution_count": 23,
                    "data": {
                        "text/plain": "                   X              Y      OBJECTID         INCKEY  \\\ncount  213918.000000  213918.000000  221389.00000  221389.000000   \nmean     -122.330756      47.620199  110695.00000  144708.701914   \nstd         0.030055       0.056043   63909.64371   89126.729589   \nmin      -122.419091      47.495573       1.00000    1001.000000   \n25%      -122.349280      47.577151   55348.00000   71634.000000   \n50%      -122.330363      47.616053  110695.00000  127184.000000   \n75%      -122.311998      47.664290  166042.00000  209783.000000   \nmax      -122.238949      47.734142  221389.00000  333843.000000   \n\n           COLDETKEY         INTKEY    PERSONCOUNT       PEDCOUNT  \\\ncount  221389.000000   71884.000000  221389.000000  221389.000000   \nmean   144936.934541   37612.330964       2.227161       0.038136   \nstd     89501.312920   51886.084219       1.470190       0.201815   \nmin      1001.000000   23807.000000       0.000000       0.000000   \n25%     71634.000000   28652.750000       2.000000       0.000000   \n50%    127184.000000   29973.000000       2.000000       0.000000   \n75%    210003.000000   33984.000000       3.000000       0.000000   \nmax    335343.000000  757580.000000      93.000000       6.000000   \n\n         PEDCYLCOUNT       VEHCOUNT       INJURIES  SERIOUSINJURIES  \\\ncount  221389.000000  221389.000000  221389.000000    221389.000000   \nmean        0.027350       1.731057       0.373962         0.015209   \nstd         0.164508       0.829259       0.732158         0.158072   \nmin         0.000000       0.000000       0.000000         0.000000   \n25%         0.000000       2.000000       0.000000         0.000000   \n50%         0.000000       2.000000       0.000000         0.000000   \n75%         0.000000       2.000000       1.000000         0.000000   \nmax         2.000000      15.000000      78.000000        41.000000   \n\n          FATALITIES   SDOT_COLCODE    SDOTCOLNUM     SEGLANEKEY  CROSSWALKKEY  \ncount  221389.000000  221388.000000  1.272050e+05  221389.000000  2.213890e+05  \nmean        0.001685      13.383115  7.971063e+06     261.296320  9.583127e+03  \nstd         0.044701       7.301668  2.611523e+06    3247.953616  7.148311e+04  \nmin         0.000000       0.000000  1.007024e+06       0.000000  0.000000e+00  \n25%         0.000000      11.000000  6.007029e+06       0.000000  0.000000e+00  \n50%         0.000000      11.000000  8.033011e+06       0.000000  0.000000e+00  \n75%         0.000000      14.000000  1.018101e+07       0.000000  0.000000e+00  \nmax         5.000000      87.000000  1.307202e+07  525241.000000  5.239700e+06  ",
                        "text/html": "<div>\n<style scoped>\n    .dataframe tbody tr th:only-of-type {\n        vertical-align: middle;\n    }\n\n    .dataframe tbody tr th {\n        vertical-align: top;\n    }\n\n    .dataframe thead th {\n        text-align: right;\n    }\n</style>\n<table border=\"1\" class=\"dataframe\">\n  <thead>\n    <tr style=\"text-align: right;\">\n      <th></th>\n      <th>X</th>\n      <th>Y</th>\n      <th>OBJECTID</th>\n      <th>INCKEY</th>\n      <th>COLDETKEY</th>\n      <th>INTKEY</th>\n      <th>PERSONCOUNT</th>\n      <th>PEDCOUNT</th>\n      <th>PEDCYLCOUNT</th>\n      <th>VEHCOUNT</th>\n      <th>INJURIES</th>\n      <th>SERIOUSINJURIES</th>\n      <th>FATALITIES</th>\n      <th>SDOT_COLCODE</th>\n      <th>SDOTCOLNUM</th>\n      <th>SEGLANEKEY</th>\n      <th>CROSSWALKKEY</th>\n    </tr>\n  </thead>\n  <tbody>\n    <tr>\n      <th>count</th>\n      <td>213918.000000</td>\n      <td>213918.000000</td>\n      <td>221389.00000</td>\n      <td>221389.000000</td>\n      <td>221389.000000</td>\n      <td>71884.000000</td>\n      <td>221389.000000</td>\n      <td>221389.000000</td>\n      <td>221389.000000</td>\n      <td>221389.000000</td>\n      <td>221389.000000</td>\n      <td>221389.000000</td>\n      <td>221389.000000</td>\n      <td>221388.000000</td>\n      <td>1.272050e+05</td>\n      <td>221389.000000</td>\n      <td>2.213890e+05</td>\n    </tr>\n    <tr>\n      <th>mean</th>\n      <td>-122.330756</td>\n      <td>47.620199</td>\n      <td>110695.00000</td>\n      <td>144708.701914</td>\n      <td>144936.934541</td>\n      <td>37612.330964</td>\n      <td>2.227161</td>\n      <td>0.038136</td>\n      <td>0.027350</td>\n      <td>1.731057</td>\n      <td>0.373962</td>\n      <td>0.015209</td>\n      <td>0.001685</td>\n      <td>13.383115</td>\n      <td>7.971063e+06</td>\n      <td>261.296320</td>\n      <td>9.583127e+03</td>\n    </tr>\n    <tr>\n      <th>std</th>\n      <td>0.030055</td>\n      <td>0.056043</td>\n      <td>63909.64371</td>\n      <td>89126.729589</td>\n      <td>89501.312920</td>\n      <td>51886.084219</td>\n      <td>1.470190</td>\n      <td>0.201815</td>\n      <td>0.164508</td>\n      <td>0.829259</td>\n      <td>0.732158</td>\n      <td>0.158072</td>\n      <td>0.044701</td>\n      <td>7.301668</td>\n      <td>2.611523e+06</td>\n      <td>3247.953616</td>\n      <td>7.148311e+04</td>\n    </tr>\n    <tr>\n      <th>min</th>\n      <td>-122.419091</td>\n      <td>47.495573</td>\n      <td>1.00000</td>\n      <td>1001.000000</td>\n      <td>1001.000000</td>\n      <td>23807.000000</td>\n      <td>0.000000</td>\n      <td>0.000000</td>\n      <td>0.000000</td>\n      <td>0.000000</td>\n      <td>0.000000</td>\n      <td>0.000000</td>\n      <td>0.000000</td>\n      <td>0.000000</td>\n      <td>1.007024e+06</td>\n      <td>0.000000</td>\n      <td>0.000000e+00</td>\n    </tr>\n    <tr>\n      <th>25%</th>\n      <td>-122.349280</td>\n      <td>47.577151</td>\n      <td>55348.00000</td>\n      <td>71634.000000</td>\n      <td>71634.000000</td>\n      <td>28652.750000</td>\n      <td>2.000000</td>\n      <td>0.000000</td>\n      <td>0.000000</td>\n      <td>2.000000</td>\n      <td>0.000000</td>\n      <td>0.000000</td>\n      <td>0.000000</td>\n      <td>11.000000</td>\n      <td>6.007029e+06</td>\n      <td>0.000000</td>\n      <td>0.000000e+00</td>\n    </tr>\n    <tr>\n      <th>50%</th>\n      <td>-122.330363</td>\n      <td>47.616053</td>\n      <td>110695.00000</td>\n      <td>127184.000000</td>\n      <td>127184.000000</td>\n      <td>29973.000000</td>\n      <td>2.000000</td>\n      <td>0.000000</td>\n      <td>0.000000</td>\n      <td>2.000000</td>\n      <td>0.000000</td>\n      <td>0.000000</td>\n      <td>0.000000</td>\n      <td>11.000000</td>\n      <td>8.033011e+06</td>\n      <td>0.000000</td>\n      <td>0.000000e+00</td>\n    </tr>\n    <tr>\n      <th>75%</th>\n      <td>-122.311998</td>\n      <td>47.664290</td>\n      <td>166042.00000</td>\n      <td>209783.000000</td>\n      <td>210003.000000</td>\n      <td>33984.000000</td>\n      <td>3.000000</td>\n      <td>0.000000</td>\n      <td>0.000000</td>\n      <td>2.000000</td>\n      <td>1.000000</td>\n      <td>0.000000</td>\n      <td>0.000000</td>\n      <td>14.000000</td>\n      <td>1.018101e+07</td>\n      <td>0.000000</td>\n      <td>0.000000e+00</td>\n    </tr>\n    <tr>\n      <th>max</th>\n      <td>-122.238949</td>\n      <td>47.734142</td>\n      <td>221389.00000</td>\n      <td>333843.000000</td>\n      <td>335343.000000</td>\n      <td>757580.000000</td>\n      <td>93.000000</td>\n      <td>6.000000</td>\n      <td>2.000000</td>\n      <td>15.000000</td>\n      <td>78.000000</td>\n      <td>41.000000</td>\n      <td>5.000000</td>\n      <td>87.000000</td>\n      <td>1.307202e+07</td>\n      <td>525241.000000</td>\n      <td>5.239700e+06</td>\n    </tr>\n  </tbody>\n</table>\n</div>"
                    },
                    "metadata": {}
                }
            ]
        },
        {
            "metadata": {},
            "cell_type": "code",
            "source": "#IntData = DataSet[['LOCATION','SEVERITYCODE','WEATHER','ROADCOND','LIGHTCOND']]\n\nIntData = DataSet[['LOCATION','SEVERITYCODE','JUNCTIONTYPE','UNDERINFL','WEATHER','ROADCOND','LIGHTCOND']]",
            "execution_count": 56,
            "outputs": []
        },
        {
            "metadata": {},
            "cell_type": "code",
            "source": "IntData.head()",
            "execution_count": 46,
            "outputs": [
                {
                    "output_type": "execute_result",
                    "execution_count": 46,
                    "data": {
                        "text/plain": "                                            LOCATION SEVERITYCODE  \\\n0    BROADWAY BETWEEN E COLUMBIA ST AND BOYLSTON AVE            1   \n1     8TH AVE NE BETWEEN NE 45TH E ST AND NE 47TH ST            1   \n2               JAMES ST BETWEEN 6TH AVE AND 7TH AVE            0   \n3  NE NORTHGATE WAY BETWEEN 1ST AVE NE AND NE NOR...            0   \n4  M L KING JR ER WAY S BETWEEN S ANGELINE ST AND...            0   \n\n                              JUNCTIONTYPE UNDERINFL  WEATHER ROADCOND  \\\n0  Mid-Block (not related to intersection)         N  Raining      Wet   \n1  Mid-Block (not related to intersection)         N    Clear      Dry   \n2     Mid-Block (but intersection related)       NaN      NaN      NaN   \n3  Mid-Block (not related to intersection)       NaN      NaN      NaN   \n4  Mid-Block (not related to intersection)       NaN      NaN      NaN   \n\n                 LIGHTCOND  \n0  Dark - Street Lights On  \n1                 Daylight  \n2                      NaN  \n3                      NaN  \n4                      NaN  ",
                        "text/html": "<div>\n<style scoped>\n    .dataframe tbody tr th:only-of-type {\n        vertical-align: middle;\n    }\n\n    .dataframe tbody tr th {\n        vertical-align: top;\n    }\n\n    .dataframe thead th {\n        text-align: right;\n    }\n</style>\n<table border=\"1\" class=\"dataframe\">\n  <thead>\n    <tr style=\"text-align: right;\">\n      <th></th>\n      <th>LOCATION</th>\n      <th>SEVERITYCODE</th>\n      <th>JUNCTIONTYPE</th>\n      <th>UNDERINFL</th>\n      <th>WEATHER</th>\n      <th>ROADCOND</th>\n      <th>LIGHTCOND</th>\n    </tr>\n  </thead>\n  <tbody>\n    <tr>\n      <th>0</th>\n      <td>BROADWAY BETWEEN E COLUMBIA ST AND BOYLSTON AVE</td>\n      <td>1</td>\n      <td>Mid-Block (not related to intersection)</td>\n      <td>N</td>\n      <td>Raining</td>\n      <td>Wet</td>\n      <td>Dark - Street Lights On</td>\n    </tr>\n    <tr>\n      <th>1</th>\n      <td>8TH AVE NE BETWEEN NE 45TH E ST AND NE 47TH ST</td>\n      <td>1</td>\n      <td>Mid-Block (not related to intersection)</td>\n      <td>N</td>\n      <td>Clear</td>\n      <td>Dry</td>\n      <td>Daylight</td>\n    </tr>\n    <tr>\n      <th>2</th>\n      <td>JAMES ST BETWEEN 6TH AVE AND 7TH AVE</td>\n      <td>0</td>\n      <td>Mid-Block (but intersection related)</td>\n      <td>NaN</td>\n      <td>NaN</td>\n      <td>NaN</td>\n      <td>NaN</td>\n    </tr>\n    <tr>\n      <th>3</th>\n      <td>NE NORTHGATE WAY BETWEEN 1ST AVE NE AND NE NOR...</td>\n      <td>0</td>\n      <td>Mid-Block (not related to intersection)</td>\n      <td>NaN</td>\n      <td>NaN</td>\n      <td>NaN</td>\n      <td>NaN</td>\n    </tr>\n    <tr>\n      <th>4</th>\n      <td>M L KING JR ER WAY S BETWEEN S ANGELINE ST AND...</td>\n      <td>0</td>\n      <td>Mid-Block (not related to intersection)</td>\n      <td>NaN</td>\n      <td>NaN</td>\n      <td>NaN</td>\n      <td>NaN</td>\n    </tr>\n  </tbody>\n</table>\n</div>"
                    },
                    "metadata": {}
                }
            ]
        },
        {
            "metadata": {},
            "cell_type": "code",
            "source": "IntData.dtypes",
            "execution_count": 47,
            "outputs": [
                {
                    "output_type": "execute_result",
                    "execution_count": 47,
                    "data": {
                        "text/plain": "LOCATION        object\nSEVERITYCODE    object\nJUNCTIONTYPE    object\nUNDERINFL       object\nWEATHER         object\nROADCOND        object\nLIGHTCOND       object\ndtype: object"
                    },
                    "metadata": {}
                }
            ]
        },
        {
            "metadata": {},
            "cell_type": "code",
            "source": "#IntData.LOCATION.value_counts()",
            "execution_count": 45,
            "outputs": []
        },
        {
            "metadata": {
                "scrolled": true
            },
            "cell_type": "code",
            "source": "IntData.SEVERITYCODE.value_counts()",
            "execution_count": 31,
            "outputs": [
                {
                    "output_type": "execute_result",
                    "execution_count": 31,
                    "data": {
                        "text/plain": "1     137596\n2      58747\n0      21594\n2b      3102\n3        349\nName: SEVERITYCODE, dtype: int64"
                    },
                    "metadata": {}
                }
            ]
        },
        {
            "metadata": {},
            "cell_type": "code",
            "source": "IntData.JUNCTIONTYPE.value_counts()",
            "execution_count": 32,
            "outputs": [
                {
                    "output_type": "execute_result",
                    "execution_count": 32,
                    "data": {
                        "text/plain": "Mid-Block (not related to intersection)              101632\nAt Intersection (intersection related)                69178\nMid-Block (but intersection related)                  24405\nDriveway Junction                                     11496\nAt Intersection (but not related to intersection)      2495\nRamp Junction                                           190\nUnknown                                                  21\nName: JUNCTIONTYPE, dtype: int64"
                    },
                    "metadata": {}
                }
            ]
        },
        {
            "metadata": {},
            "cell_type": "code",
            "source": "IntData.UNDERINFL.value_counts()",
            "execution_count": 33,
            "outputs": [
                {
                    "output_type": "execute_result",
                    "execution_count": 33,
                    "data": {
                        "text/plain": "N    103874\n0     81676\nY      5399\n1      4230\nName: UNDERINFL, dtype: int64"
                    },
                    "metadata": {}
                }
            ]
        },
        {
            "metadata": {},
            "cell_type": "code",
            "source": "IntData.WEATHER.value_counts()",
            "execution_count": 35,
            "outputs": [
                {
                    "output_type": "execute_result",
                    "execution_count": 35,
                    "data": {
                        "text/plain": "Clear                       114694\nRaining                      34036\nOvercast                     28543\nUnknown                      15131\nSnowing                        919\nOther                          860\nFog/Smog/Smoke                 577\nSleet/Hail/Freezing Rain       116\nBlowing Sand/Dirt               56\nSevere Crosswind                26\nPartly Cloudy                   10\nBlowing Snow                     1\nName: WEATHER, dtype: int64"
                    },
                    "metadata": {}
                }
            ]
        },
        {
            "metadata": {},
            "cell_type": "code",
            "source": "IntData.ROADCOND.value_counts()",
            "execution_count": 36,
            "outputs": [
                {
                    "output_type": "execute_result",
                    "execution_count": 36,
                    "data": {
                        "text/plain": "Dry               128535\nWet                48734\nUnknown            15139\nIce                 1232\nSnow/Slush          1014\nOther                136\nStanding Water       119\nSand/Mud/Dirt         77\nOil                   64\nName: ROADCOND, dtype: int64"
                    },
                    "metadata": {}
                }
            ]
        },
        {
            "metadata": {},
            "cell_type": "code",
            "source": "IntData.LIGHTCOND.value_counts()",
            "execution_count": 37,
            "outputs": [
                {
                    "output_type": "execute_result",
                    "execution_count": 37,
                    "data": {
                        "text/plain": "Daylight                    119448\nDark - Street Lights On      50125\nUnknown                      13532\nDusk                          6082\nDawn                          2608\nDark - No Street Lights       1579\nDark - Street Lights Off      1239\nOther                          244\nDark - Unknown Lighting         23\nName: LIGHTCOND, dtype: int64"
                    },
                    "metadata": {}
                }
            ]
        },
        {
            "metadata": {},
            "cell_type": "code",
            "source": "IntData.isnull().sum()",
            "execution_count": 57,
            "outputs": [
                {
                    "output_type": "execute_result",
                    "execution_count": 57,
                    "data": {
                        "text/plain": "LOCATION         4588\nSEVERITYCODE        1\nJUNCTIONTYPE    11972\nUNDERINFL       26210\nWEATHER         26420\nROADCOND        26339\nLIGHTCOND       26509\ndtype: int64"
                    },
                    "metadata": {}
                }
            ]
        },
        {
            "metadata": {},
            "cell_type": "code",
            "source": "IntData.shape",
            "execution_count": 58,
            "outputs": [
                {
                    "output_type": "execute_result",
                    "execution_count": 58,
                    "data": {
                        "text/plain": "(221389, 7)"
                    },
                    "metadata": {}
                }
            ]
        },
        {
            "metadata": {},
            "cell_type": "code",
            "source": "IntData.dropna(axis=0, inplace=True)",
            "execution_count": 59,
            "outputs": [
                {
                    "output_type": "stream",
                    "text": "/opt/conda/envs/Python36/lib/python3.6/site-packages/ipykernel/__main__.py:1: SettingWithCopyWarning: \nA value is trying to be set on a copy of a slice from a DataFrame\n\nSee the caveats in the documentation: http://pandas.pydata.org/pandas-docs/stable/indexing.html#indexing-view-versus-copy\n  if __name__ == '__main__':\n",
                    "name": "stderr"
                }
            ]
        },
        {
            "metadata": {},
            "cell_type": "code",
            "source": "IntData.shape",
            "execution_count": 60,
            "outputs": [
                {
                    "output_type": "execute_result",
                    "execution_count": 60,
                    "data": {
                        "text/plain": "(187982, 7)"
                    },
                    "metadata": {}
                }
            ]
        },
        {
            "metadata": {},
            "cell_type": "code",
            "source": "IntData.isnull().sum()",
            "execution_count": 61,
            "outputs": [
                {
                    "output_type": "execute_result",
                    "execution_count": 61,
                    "data": {
                        "text/plain": "LOCATION        0\nSEVERITYCODE    0\nJUNCTIONTYPE    0\nUNDERINFL       0\nWEATHER         0\nROADCOND        0\nLIGHTCOND       0\ndtype: int64"
                    },
                    "metadata": {}
                }
            ]
        },
        {
            "metadata": {},
            "cell_type": "code",
            "source": "",
            "execution_count": null,
            "outputs": []
        },
        {
            "metadata": {},
            "cell_type": "code",
            "source": "",
            "execution_count": null,
            "outputs": []
        },
        {
            "metadata": {},
            "cell_type": "code",
            "source": "",
            "execution_count": null,
            "outputs": []
        },
        {
            "metadata": {},
            "cell_type": "code",
            "source": "",
            "execution_count": null,
            "outputs": []
        },
        {
            "metadata": {},
            "cell_type": "code",
            "source": "",
            "execution_count": null,
            "outputs": []
        },
        {
            "metadata": {},
            "cell_type": "code",
            "source": "",
            "execution_count": null,
            "outputs": []
        },
        {
            "metadata": {},
            "cell_type": "code",
            "source": "",
            "execution_count": null,
            "outputs": []
        }
    ],
    "metadata": {
        "kernelspec": {
            "name": "python3",
            "display_name": "Python 3.6",
            "language": "python"
        },
        "language_info": {
            "name": "python",
            "version": "3.6.9",
            "mimetype": "text/x-python",
            "codemirror_mode": {
                "name": "ipython",
                "version": 3
            },
            "pygments_lexer": "ipython3",
            "nbconvert_exporter": "python",
            "file_extension": ".py"
        }
    },
    "nbformat": 4,
    "nbformat_minor": 1
}