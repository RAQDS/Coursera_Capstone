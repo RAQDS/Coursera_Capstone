{
    "cells": [
        {
            "metadata": {
                "collapsed": true
            },
            "cell_type": "markdown",
            "source": "# **Car Accident Warning System :: Seattle City**\n---"
        },
        {
            "metadata": {},
            "cell_type": "markdown",
            "source": "## Introduction / Business Understanding"
        },
        {
            "metadata": {},
            "cell_type": "markdown",
            "source": "Everyone who commutes daily to work would know that traveling can be a stressful and time wasting activity if not planned properly. Traveling time is one of the main factors that determine how pleasant your commute to and from work would be. One of the factors that needs to be taken into account is facing a Congestion/Traffic Jam because of an accident that took place on the route you take. The aim of this project is to see if we can build a model to be able to predict the severity and/or probability of an accident taking place taking into account different environmental/traffic/geographical factors. This will be able to help both, law enforcing agencies as well as daily commuters.\n\nLaw enforcing agencies stand to gain by being able to proactively avert such accidents if a certain set of conditions arrive and being able to take appropriate actions if and when it does, so that they can ensure minimum impact on traffic flow.\n\nCommuters tend to gain by being forewarned about the accidents and planning/rerouting their journey accordingly. They can also be more vigilant in certain conditions that are prone to accidents.\n\nIn the end, we all stand to gain collectively as a society as we will have less accidents, safer roads, less pollution (noise and air) due to less traffic jams and an over improvement in daily commute both in terms of time and stress."
        }
    ],
    "metadata": {
        "kernelspec": {
            "name": "python3",
            "display_name": "Python 3.6",
            "language": "python"
        },
        "language_info": {
            "name": "python",
            "version": "3.6.9",
            "mimetype": "text/x-python",
            "codemirror_mode": {
                "name": "ipython",
                "version": 3
            },
            "pygments_lexer": "ipython3",
            "nbconvert_exporter": "python",
            "file_extension": ".py"
        }
    },
    "nbformat": 4,
    "nbformat_minor": 1
}