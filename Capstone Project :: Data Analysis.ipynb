{
    "cells": [
        {
            "metadata": {
                "collapsed": true
            },
            "cell_type": "markdown",
            "source": "# **Car Accident Warning System :: Seattle City**\n---"
        },
        {
            "metadata": {},
            "cell_type": "markdown",
            "source": "## Data Analysis"
        },
        {
            "metadata": {},
            "cell_type": "markdown",
            "source": "To realize the solution to the problem at hand, we needed an appropriate data source that contains data on past incidents, the conditions they took place in and outcomes, related to traffic related accidents. We got a data source from the Government of Seattle Website (https://data.seattle.gov/Land-Base/Collisions/9kas-rb8d) that contains the latest dateset for us to analyze and build a model to be able to predict the desired results.\n\nThere are a total of **40 Variables** and **221267 data points/Observations**. Looking at the data set, we see some columns that look useful, including \n\n* **LOCATION** - Description of the general location of the collision\n* **SEVERITYCODE** - A code that corresponds to the severity of the collision ( 3\u2014fatality, 2b\u2014serious injury, 2\u2014injury, 1\u2014prop damage, 0\u2014unknown)\n* **SEVERITYDESC** - A detailed description of the severity of the collision\n* **JUNCTIONTYPE** - Category of junction at which collision took place\n* **UNDERINFL** - Whether or not a driver involved was under the influence of drugs or alcohol\n* **INCDTTM** - The date and time of the incident (Time of the day might be of importance here)\n* **WEATHER** - A description of the weather conditions during the time of the collision\n* **ROADCOND** - The condition of the road during the collision\n* **LIGHTCOND** - The condition of the road during the collision\n\nOur Dependent/Predicted Variable will be **SEVERITYCODE** and during data processing and subsequent stages, we will go into in-depth analysis to see how each independent variable varies/is related to the dependent variable.\n\nNote that data filtering will be needed to remove unwanted Columns/Variables and to remove and Null/Empty/Unwanted data observations. We will also need to do other data processing steps such a type casting, standardization, dummy variable creation etc.",
            "attachments": {}
        },
        {
            "metadata": {},
            "cell_type": "code",
            "source": "",
            "execution_count": null,
            "outputs": []
        },
        {
            "metadata": {},
            "cell_type": "code",
            "source": "",
            "execution_count": null,
            "outputs": []
        },
        {
            "metadata": {},
            "cell_type": "code",
            "source": "",
            "execution_count": null,
            "outputs": []
        }
    ],
    "metadata": {
        "kernelspec": {
            "name": "python3",
            "display_name": "Python 3.6",
            "language": "python"
        },
        "language_info": {
            "name": "python",
            "version": "3.6.9",
            "mimetype": "text/x-python",
            "codemirror_mode": {
                "name": "ipython",
                "version": 3
            },
            "pygments_lexer": "ipython3",
            "nbconvert_exporter": "python",
            "file_extension": ".py"
        }
    },
    "nbformat": 4,
    "nbformat_minor": 1
}